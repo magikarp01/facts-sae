{
 "cells": [
  {
   "cell_type": "code",
   "execution_count": 1,
   "metadata": {},
   "outputs": [],
   "source": [
    "%load_ext autoreload\n",
    "%autoreload 2\n",
    "\n",
    "from nnsight import LanguageModel\n",
    "from dictionary_learning.buffer import ActivationBuffer\n",
    "from dictionary_learning.training import trainSAE\n",
    "from transformer_lens import HookedTransformer, utils\n",
    "import torch\n",
    "import os\n",
    "os.environ[\"TOKENIZERS_PARALLELISM\"] = \"false\"\n",
    "from tqdm import tqdm\n",
    "from tqdm.notebook import tqdm as tqdm_notebook\n",
    "import wandb\n",
    "from test_sae import get_metrics\n",
    "import psutil\n",
    "from tqdm import tqdm\n",
    "from tqdm.notebook import tqdm as tqdm_notebook"
   ]
  },
  {
   "cell_type": "code",
   "execution_count": 2,
   "metadata": {},
   "outputs": [
    {
     "name": "stdout",
     "output_type": "stream",
     "text": [
      "Loaded pretrained model EleutherAI/pythia-70m-deduped into HookedTransformer\n"
     ]
    }
   ],
   "source": [
    "device='cuda:0'\n",
    "tl_model = HookedTransformer.from_pretrained(\n",
    "    'EleutherAI/pythia-70m-deduped',\n",
    "    # 'EleutherAI/pythia-1.4b-deduped',\n",
    "    # 'EleutherAI/pythia-2.8b-deduped',\n",
    "    device = device\n",
    ")\n",
    "tokenizer = tl_model.tokenizer\n",
    "\n",
    "layer = 1\n",
    "hook_pos = utils.get_act_name(\"mlp_out\", layer)\n",
    "# model.set_use_hook_mlp_in(True)\n",
    "\n",
    "model = LanguageModel(\n",
    "    'EleutherAI/pythia-70m-deduped', # this can be any Huggingface model\n",
    "    # 'EleutherAI/pythia-2.8b-deduped',\n",
    "    device_map = device\n",
    ")\n",
    "submodule = model.gpt_neox.layers[layer].mlp # layer 1 MLP\n",
    "activation_dim = tl_model.cfg.d_model # output dimension of the MLP\n",
    "dictionary_size = 16 * activation_dim"
   ]
  },
  {
   "cell_type": "code",
   "execution_count": 3,
   "metadata": {},
   "outputs": [
    {
     "name": "stderr",
     "output_type": "stream",
     "text": [
      "\u001b[34m\u001b[1mwandb\u001b[0m: Currently logged in as: \u001b[33mphilliphguo\u001b[0m. Use \u001b[1m`wandb login --relogin`\u001b[0m to force relogin\n"
     ]
    },
    {
     "data": {
      "text/html": [
       "wandb version 0.16.1 is available!  To upgrade, please run:\n",
       " $ pip install wandb --upgrade"
      ],
      "text/plain": [
       "<IPython.core.display.HTML object>"
      ]
     },
     "metadata": {},
     "output_type": "display_data"
    },
    {
     "data": {
      "text/html": [
       "Tracking run with wandb version 0.16.0"
      ],
      "text/plain": [
       "<IPython.core.display.HTML object>"
      ]
     },
     "metadata": {},
     "output_type": "display_data"
    },
    {
     "data": {
      "text/html": [
       "Run data is saved locally in <code>/data/phillip_guo/facts-sae/wandb/run-20231224_013316-xycmbpui</code>"
      ],
      "text/plain": [
       "<IPython.core.display.HTML object>"
      ]
     },
     "metadata": {},
     "output_type": "display_data"
    },
    {
     "data": {
      "text/html": [
       "Syncing run <strong><a href='https://wandb.ai/philliphguo/facts-sae/runs/xycmbpui' target=\"_blank\">decent-pine-17</a></strong> to <a href='https://wandb.ai/philliphguo/facts-sae' target=\"_blank\">Weights & Biases</a> (<a href='https://wandb.me/run' target=\"_blank\">docs</a>)<br/>"
      ],
      "text/plain": [
       "<IPython.core.display.HTML object>"
      ]
     },
     "metadata": {},
     "output_type": "display_data"
    },
    {
     "data": {
      "text/html": [
       " View project at <a href='https://wandb.ai/philliphguo/facts-sae' target=\"_blank\">https://wandb.ai/philliphguo/facts-sae</a>"
      ],
      "text/plain": [
       "<IPython.core.display.HTML object>"
      ]
     },
     "metadata": {},
     "output_type": "display_data"
    },
    {
     "data": {
      "text/html": [
       " View run at <a href='https://wandb.ai/philliphguo/facts-sae/runs/xycmbpui' target=\"_blank\">https://wandb.ai/philliphguo/facts-sae/runs/xycmbpui</a>"
      ],
      "text/plain": [
       "<IPython.core.display.HTML object>"
      ]
     },
     "metadata": {},
     "output_type": "display_data"
    },
    {
     "data": {
      "text/html": [
       "<button onClick=\"this.nextSibling.style.display='block';this.style.display='none';\">Display W&B run</button><iframe src='https://wandb.ai/philliphguo/facts-sae/runs/xycmbpui?jupyter=true' style='border:none;width:100%;height:420px;display:none;'></iframe>"
      ],
      "text/plain": [
       "<wandb.sdk.wandb_run.Run at 0x7f2dfc3c3fd0>"
      ]
     },
     "execution_count": 3,
     "metadata": {},
     "output_type": "execute_result"
    }
   ],
   "source": [
    "from tasks.ioi.IOITask import IOITask\n",
    "from tasks.facts.SportsTask import SportsTask\n",
    "from tasks.owt.OWTTask import OWTTask\n",
    "BATCH_SIZE=512\n",
    "\n",
    "ioi_task = IOITask(batch_size=BATCH_SIZE, tokenizer=tokenizer, device='cuda')\n",
    "sports_task = SportsTask(batch_size=BATCH_SIZE, tokenizer=tokenizer, device='cuda')\n",
    "owt_task = OWTTask(batch_size=BATCH_SIZE, tokenizer=tokenizer, device='cuda')\n",
    "wandb.init(project='facts-sae', \n",
    "           entity='philliphguo',\n",
    "           config={\n",
    "                'training_steps': 1e7\n",
    "           }\n",
    "           )"
   ]
  },
  {
   "cell_type": "code",
   "execution_count": 4,
   "metadata": {},
   "outputs": [],
   "source": [
    "import torch\n",
    "def display_memory():\n",
    "    total = torch.cuda.get_device_properties(0).total_memory\n",
    "    r = torch.cuda.memory_reserved(0)\n",
    "    a = torch.cuda.memory_allocated(0)\n",
    "    print(f\"{a*1e-9} allocated, {r*1e-9} reserved, {total*1e-9} total\")"
   ]
  },
  {
   "cell_type": "code",
   "execution_count": 9,
   "metadata": {},
   "outputs": [
    {
     "name": "stderr",
     "output_type": "stream",
     "text": [
      "/data/phillip_guo/miniconda3/envs/unlrn/lib/python3.10/site-packages/datasets/table.py:1421: FutureWarning: promote has been superseded by mode='default'.\n",
      "  table = cls._concat_blocks(blocks, axis=0)\n"
     ]
    }
   ],
   "source": [
    "from datasets import load_dataset\n",
    "import torch\n",
    "from collections import defaultdict\n",
    "\n",
    "# Load the dataset\n",
    "# train_dataset = load_dataset('wikitext', 'wikitext-103-v1', split='train[:1000000]')\n",
    "train_dataset = load_dataset('Skylion007/openwebtext', split=f'train[:{int(5e6)}]')\n",
    "def yield_sentences(data_split):\n",
    "    for example in data_split:\n",
    "        text = example['text']\n",
    "        sentences = text.split('\\n')\n",
    "        for sentence in sentences:\n",
    "            if sentence:  # skip empty lines\n",
    "                yield sentence\n",
    "\n",
    "# Creating an iterator for training sentences\n",
    "train_sentences = yield_sentences(train_dataset)\n",
    "\n",
    "# for i in range(10):\n",
    "#     print(next(train_sentences))\n",
    "\n",
    "buffer = ActivationBuffer(\n",
    "    train_sentences,\n",
    "    model,\n",
    "    submodule,\n",
    "    out_feats=activation_dim, # output dimension of the model component\n",
    "    n_ctxs=3e4,\n",
    "    in_batch_size=int(512*4.5), # batch size for the model\n",
    "    out_batch_size=512*16, # batch size for the buffer\n",
    ") # buffer will return batches of tensors of dimension = submodule's output dimension"
   ]
  },
  {
   "cell_type": "code",
   "execution_count": 10,
   "metadata": {},
   "outputs": [
    {
     "name": "stdout",
     "output_type": "stream",
     "text": [
      "starting training\n",
      "setup sae, optimizer, scheduler\n"
     ]
    },
    {
     "data": {
      "application/vnd.jupyter.widget-view+json": {
       "model_id": "cd1584444edb4ca0820a9c5cb47bf984",
       "version_major": 2,
       "version_minor": 0
      },
      "text/plain": [
       "  0%|          | 0/100000 [00:00<?, ?it/s]"
      ]
     },
     "metadata": {},
     "output_type": "display_data"
    },
    {
     "name": "stdout",
     "output_type": "stream",
     "text": [
      "refreshing buffer...\n"
     ]
    },
    {
     "name": "stderr",
     "output_type": "stream",
     "text": [
      "You're using a GPTNeoXTokenizerFast tokenizer. Please note that with a fast tokenizer, using the `__call__` method is faster than using a method to encode the text followed by a call to the `pad` method to get a padded encoding.\n"
     ]
    },
    {
     "name": "stdout",
     "output_type": "stream",
     "text": [
      "buffer refreshed...\n"
     ]
    },
    {
     "name": "stderr",
     "output_type": "stream",
     "text": [
      "Asking to truncate to max_length but no maximum length is provided and the model has no predefined maximum length. Default to no truncation.\n"
     ]
    },
    {
     "name": "stdout",
     "output_type": "stream",
     "text": [
      "step 0 max mem: 76.35055104, cur mem: 9.383542784\n",
      "step 0 MSE loss: 0.2693672180175781, sparsity loss: 463.43072509765625\n",
      "step 100 max mem: 76.35055104, cur mem: 9.56237824\n",
      "step 100 MSE loss: 0.07871539890766144, sparsity loss: 324.4286804199219\n",
      "step 200 max mem: 76.35055104, cur mem: 9.537785856\n",
      "step 200 MSE loss: 0.04908115416765213, sparsity loss: 118.89510345458984\n",
      "refreshing buffer...\n",
      "buffer refreshed...\n",
      "step 300 max mem: 76.761829376, cur mem: 9.715224576\n",
      "step 300 MSE loss: 0.03941361606121063, sparsity loss: 41.282100677490234\n",
      "step 400 max mem: 76.761829376, cur mem: 9.70205184\n",
      "step 400 MSE loss: 0.034479837864637375, sparsity loss: 20.633460998535156\n",
      "refreshing buffer...\n",
      "buffer refreshed...\n",
      "step 500 max mem: 76.761829376, cur mem: 9.67907328\n",
      "step 500 MSE loss: 0.03197258710861206, sparsity loss: 11.994084358215332\n",
      "step 600 max mem: 76.761829376, cur mem: 9.679101952\n",
      "step 600 MSE loss: 0.030107848346233368, sparsity loss: 8.636005401611328\n",
      "step 700 max mem: 76.761829376, cur mem: 9.694691328\n",
      "step 700 MSE loss: 0.028487592935562134, sparsity loss: 7.205160140991211\n",
      "refreshing buffer...\n",
      "buffer refreshed...\n",
      "step 800 max mem: 76.761829376, cur mem: 9.53438208\n",
      "step 800 MSE loss: 0.027183089405298233, sparsity loss: 6.866172790527344\n",
      "step 900 max mem: 76.761829376, cur mem: 9.522409472\n",
      "step 900 MSE loss: 0.025533918291330338, sparsity loss: 6.689817905426025\n",
      "refreshing buffer...\n",
      "buffer refreshed...\n",
      "step 1000 max mem: 76.761829376, cur mem: 9.719169024\n",
      "step 1000 MSE loss: 0.0245371013879776, sparsity loss: 6.692955493927002\n",
      "step 1100 max mem: 76.761829376, cur mem: 9.71835392\n",
      "step 1100 MSE loss: 0.023513298481702805, sparsity loss: 6.892335891723633\n",
      "step 1200 max mem: 76.761829376, cur mem: 9.705562112\n",
      "step 1200 MSE loss: 0.022597650066018105, sparsity loss: 6.966160774230957\n",
      "refreshing buffer...\n",
      "buffer refreshed...\n",
      "step 1300 max mem: 76.761829376, cur mem: 9.605021696\n",
      "step 1300 MSE loss: 0.02195674553513527, sparsity loss: 7.1929826736450195\n",
      "step 1400 max mem: 76.761829376, cur mem: 9.605021696\n",
      "step 1400 MSE loss: 0.021207541227340698, sparsity loss: 7.271426200866699\n",
      "refreshing buffer...\n",
      "buffer refreshed...\n",
      "step 1500 max mem: 76.761829376, cur mem: 9.793257472\n",
      "step 1500 MSE loss: 0.020747235044836998, sparsity loss: 7.322639465332031\n",
      "step 1600 max mem: 76.761829376, cur mem: 9.793257472\n",
      "step 1600 MSE loss: 0.020434843376278877, sparsity loss: 7.372766494750977\n",
      "refreshing buffer...\n",
      "buffer refreshed...\n",
      "step 1700 max mem: 76.761829376, cur mem: 9.783402496\n",
      "step 1700 MSE loss: 0.02004101127386093, sparsity loss: 7.544539451599121\n",
      "step 1800 max mem: 76.761829376, cur mem: 9.675083776\n",
      "step 1800 MSE loss: 0.0194597989320755, sparsity loss: 7.604556083679199\n",
      "step 1900 max mem: 76.761829376, cur mem: 9.688395776\n",
      "step 1900 MSE loss: 0.019096650183200836, sparsity loss: 7.641700267791748\n",
      "refreshing buffer...\n",
      "buffer refreshed...\n",
      "step 2000 max mem: 76.761829376, cur mem: 9.729708032\n",
      "step 2000 MSE loss: 0.018905404955148697, sparsity loss: 7.80198860168457\n",
      "step 2100 max mem: 76.761829376, cur mem: 9.728847872\n",
      "step 2100 MSE loss: 0.01861092820763588, sparsity loss: 7.780208587646484\n",
      "refreshing buffer...\n",
      "Unexpected exception formatting exception. Falling back to standard exception\n"
     ]
    },
    {
     "name": "stderr",
     "output_type": "stream",
     "text": [
      "Traceback (most recent call last):\n",
      "  File \"/data/phillip_guo/miniconda3/envs/unlrn/lib/python3.10/site-packages/IPython/core/interactiveshell.py\", line 3526, in run_code\n",
      "    exec(code_obj, self.user_global_ns, self.user_ns)\n",
      "  File \"/tmp/ipykernel_188857/2635003505.py\", line 122, in <module>\n",
      "    finished_sae, test_metrics = trainSAE(\n",
      "  File \"/tmp/ipykernel_188857/2635003505.py\", line 40, in trainSAE\n",
      "    for step, acts in enumerate(tqdm_style(activations, total=steps)):\n",
      "  File \"/data/phillip_guo/miniconda3/envs/unlrn/lib/python3.10/site-packages/tqdm/notebook.py\", line 249, in __iter__\n",
      "    for obj in it:\n",
      "  File \"/data/phillip_guo/miniconda3/envs/unlrn/lib/python3.10/site-packages/tqdm/std.py\", line 1182, in __iter__\n",
      "    for obj in iterable:\n",
      "  File \"/data/phillip_guo/facts-sae/dictionary_learning/buffer.py\", line 83, in __next__\n",
      "    try:\n",
      "  File \"/data/phillip_guo/facts-sae/dictionary_learning/buffer.py\", line 180, in refresh\n",
      "    if self.io == 'in' or self.io == 'out':\n",
      "  File \"/data/phillip_guo/facts-sae/dictionary_learning/buffer.py\", line 133, in _refresh_std\n",
      "  File \"/data/phillip_guo/miniconda3/envs/unlrn/lib/python3.10/site-packages/nnsight/contexts/Runner.py\", line 67, in __exit__\n",
      "    self.run_local()\n",
      "  File \"/data/phillip_guo/miniconda3/envs/unlrn/lib/python3.10/site-packages/nnsight/contexts/Runner.py\", line 72, in run_local\n",
      "    self.output = self.model(\n",
      "  File \"/data/phillip_guo/miniconda3/envs/unlrn/lib/python3.10/site-packages/nnsight/models/AbstractModel.py\", line 181, in __call__\n",
      "    inputs = self._prepare_inputs(inputs)\n",
      "  File \"/data/phillip_guo/miniconda3/envs/unlrn/lib/python3.10/site-packages/nnsight/models/LanguageModel.py\", line 90, in _prepare_inputs\n",
      "    return self.tokenizer.pad(inputs, return_tensors=\"pt\")\n",
      "  File \"/data/phillip_guo/miniconda3/envs/unlrn/lib/python3.10/site-packages/transformers/tokenization_utils_base.py\", line 3295, in pad\n",
      "    return BatchEncoding(batch_outputs, tensor_type=return_tensors)\n",
      "  File \"/data/phillip_guo/miniconda3/envs/unlrn/lib/python3.10/site-packages/transformers/tokenization_utils_base.py\", line 223, in __init__\n",
      "    self.convert_to_tensors(tensor_type=tensor_type, prepend_batch_axis=prepend_batch_axis)\n",
      "  File \"/data/phillip_guo/miniconda3/envs/unlrn/lib/python3.10/site-packages/transformers/tokenization_utils_base.py\", line 748, in convert_to_tensors\n",
      "    tensor = as_tensor(value)\n",
      "  File \"/data/phillip_guo/miniconda3/envs/unlrn/lib/python3.10/site-packages/transformers/tokenization_utils_base.py\", line 720, in as_tensor\n",
      "    return torch.tensor(value)\n",
      "KeyboardInterrupt\n",
      "\n",
      "During handling of the above exception, another exception occurred:\n",
      "\n",
      "Traceback (most recent call last):\n",
      "  File \"/data/phillip_guo/miniconda3/envs/unlrn/lib/python3.10/site-packages/IPython/core/interactiveshell.py\", line 2120, in showtraceback\n",
      "    stb = self.InteractiveTB.structured_traceback(\n",
      "  File \"/data/phillip_guo/miniconda3/envs/unlrn/lib/python3.10/site-packages/IPython/core/ultratb.py\", line 1435, in structured_traceback\n",
      "    return FormattedTB.structured_traceback(\n",
      "  File \"/data/phillip_guo/miniconda3/envs/unlrn/lib/python3.10/site-packages/IPython/core/ultratb.py\", line 1326, in structured_traceback\n",
      "    return VerboseTB.structured_traceback(\n",
      "  File \"/data/phillip_guo/miniconda3/envs/unlrn/lib/python3.10/site-packages/IPython/core/ultratb.py\", line 1173, in structured_traceback\n",
      "    formatted_exception = self.format_exception_as_a_whole(etype, evalue, etb, number_of_lines_of_context,\n",
      "  File \"/data/phillip_guo/miniconda3/envs/unlrn/lib/python3.10/site-packages/IPython/core/ultratb.py\", line 1088, in format_exception_as_a_whole\n",
      "    frames.append(self.format_record(record))\n",
      "  File \"/data/phillip_guo/miniconda3/envs/unlrn/lib/python3.10/site-packages/IPython/core/ultratb.py\", line 970, in format_record\n",
      "    frame_info.lines, Colors, self.has_colors, lvals\n",
      "  File \"/data/phillip_guo/miniconda3/envs/unlrn/lib/python3.10/site-packages/IPython/core/ultratb.py\", line 792, in lines\n",
      "    return self._sd.lines\n",
      "  File \"/data/phillip_guo/miniconda3/envs/unlrn/lib/python3.10/site-packages/stack_data/utils.py\", line 145, in cached_property_wrapper\n",
      "    value = obj.__dict__[self.func.__name__] = self.func(obj)\n",
      "  File \"/data/phillip_guo/miniconda3/envs/unlrn/lib/python3.10/site-packages/stack_data/core.py\", line 698, in lines\n",
      "    pieces = self.included_pieces\n",
      "  File \"/data/phillip_guo/miniconda3/envs/unlrn/lib/python3.10/site-packages/stack_data/utils.py\", line 145, in cached_property_wrapper\n",
      "    value = obj.__dict__[self.func.__name__] = self.func(obj)\n",
      "  File \"/data/phillip_guo/miniconda3/envs/unlrn/lib/python3.10/site-packages/stack_data/core.py\", line 649, in included_pieces\n",
      "    pos = scope_pieces.index(self.executing_piece)\n",
      "  File \"/data/phillip_guo/miniconda3/envs/unlrn/lib/python3.10/site-packages/stack_data/utils.py\", line 145, in cached_property_wrapper\n",
      "    value = obj.__dict__[self.func.__name__] = self.func(obj)\n",
      "  File \"/data/phillip_guo/miniconda3/envs/unlrn/lib/python3.10/site-packages/stack_data/core.py\", line 628, in executing_piece\n",
      "    return only(\n",
      "  File \"/data/phillip_guo/miniconda3/envs/unlrn/lib/python3.10/site-packages/executing/executing.py\", line 164, in only\n",
      "    raise NotOneValueFound('Expected one value, found 0')\n",
      "executing.executing.NotOneValueFound: Expected one value, found 0\n"
     ]
    }
   ],
   "source": [
    "from dictionary_learning.dictionary import AutoEncoder\n",
    "from dictionary_learning.buffer import ActivationBuffer\n",
    "from dictionary_learning.training import ConstrainedAdam, sae_loss, resample_neurons\n",
    "\n",
    "def trainSAE(\n",
    "        activations, # a generator that outputs batches of activations\n",
    "        activation_dim, # dimension of the activations\n",
    "        dictionary_size, # size of the dictionary\n",
    "        lr,\n",
    "        sparsity_penalty,\n",
    "        entropy=False,\n",
    "        steps=None, # if None, train until activations are exhausted\n",
    "        warmup_steps=1000, # linearly increase the learning rate for this many steps\n",
    "        resample_steps=25000, # how often to resample dead neurons\n",
    "        save_steps=None, # how often to save checkpoints\n",
    "        save_dir=None, # directory for saving checkpoints\n",
    "        log_steps=1000, # how often to print statistics\n",
    "        test_steps=10000, # how often to test\n",
    "        device='cpu',\n",
    "        tqdm_style=tqdm,\n",
    "        use_wandb=False\n",
    "        ):\n",
    "    \"\"\"\n",
    "    Train and return a sparse autoencoder\n",
    "    \"\"\"\n",
    "    ae = AutoEncoder(activation_dim, dictionary_size).to(device)\n",
    "    alives = torch.zeros(dictionary_size).bool().to(device) # which neurons are not dead?\n",
    "\n",
    "    # set up optimizer and scheduler\n",
    "    optimizer = ConstrainedAdam(ae.parameters(), ae.decoder.parameters(), lr=lr)\n",
    "    def warmup_fn(step):\n",
    "        if step < warmup_steps:\n",
    "            return step / warmup_steps\n",
    "        else:\n",
    "            return 1.\n",
    "    scheduler = torch.optim.lr_scheduler.LambdaLR(optimizer, lr_lambda=warmup_fn)\n",
    "    metrics = defaultdict(list)\n",
    "    print(\"setup sae, optimizer, scheduler\")\n",
    "\n",
    "    for step, acts in enumerate(tqdm_style(activations, total=steps)):\n",
    "        # print(step)\n",
    "        if steps is not None and step >= steps:\n",
    "            break\n",
    "\n",
    "        if isinstance(acts, torch.Tensor): # typical casse\n",
    "            acts = acts.to(device)\n",
    "        elif isinstance(acts, tuple): # for cases where the autoencoder input and output are different\n",
    "            acts = tuple(a.to(device) for a in acts)\n",
    "\n",
    "        # print(f\"{acts.shape=}\")\n",
    "        optimizer.zero_grad()\n",
    "        loss = sae_loss(acts, ae, sparsity_penalty, entropy, separate=False)\n",
    "        loss.backward()\n",
    "        optimizer.step()\n",
    "        scheduler.step()\n",
    "\n",
    "        # deal with resampling neurons\n",
    "        if resample_steps is not None:\n",
    "            with torch.no_grad():\n",
    "                if isinstance(acts, tuple):\n",
    "                    in_acts = acts[0]\n",
    "                else:\n",
    "                    in_acts = acts\n",
    "                dict_acts = ae.encode(in_acts)\n",
    "                alives = torch.logical_or(alives, (dict_acts != 0).any(dim=0))\n",
    "                if step % resample_steps == resample_steps // 2:\n",
    "                    alives = torch.zeros(dictionary_size).bool().to(device)\n",
    "                if step % resample_steps == resample_steps - 1:\n",
    "                    deads = ~alives\n",
    "                    if deads.sum() > 0:\n",
    "                        print(f\"resampling {deads.sum().item()} dead neurons\")\n",
    "                        resample_neurons(deads, acts, ae, optimizer)\n",
    "\n",
    "        # logging\n",
    "        if log_steps is not None and step % log_steps == 0:\n",
    "            # total = torch.cuda.get_device_properties(0).total_memory\n",
    "            # r = torch.cuda.memory_reserved(0)\n",
    "            # a = torch.cuda.memory_allocated(0)\n",
    "            # print(f\"step {step} memory: {a*1e-9} allocated, {r*1e-9} reserved, {total*1e-9} total\")\n",
    "            max_vram = torch.cuda.max_memory_allocated() / 1e9\n",
    "            cur_vram = torch.cuda.memory_allocated() / 1e9\n",
    "\n",
    "            process = psutil.Process()\n",
    "            cur_mem = process.memory_info().rss / 1e9\n",
    "            print(f\"step {step} max vram: {max_vram}, cur mem: {cur_mem}\")\n",
    "            with torch.no_grad():\n",
    "                mse_loss, sparsity_loss = sae_loss(acts, ae, sparsity_penalty, entropy, separate=True)\n",
    "                print(f\"step {step} MSE loss: {mse_loss}, sparsity loss: {sparsity_loss}\")\n",
    "                # dict_acts = ae.encode(acts)\n",
    "                # print(f\"step {step} % inactive: {(dict_acts == 0).all(dim=0).sum() / dict_acts.shape[-1]}\")\n",
    "                # if isinstance(activations, ActivationBuffer):\n",
    "                #     tokens = activations.tokenized_batch().input_ids\n",
    "                #     loss_orig, loss_reconst, loss_zero = reconstruction_loss(tokens, activations.model, activations.submodule, ae)\n",
    "                #     print(f\"step {step} reconstruction loss: {loss_orig}, {loss_reconst}, {loss_zero}\")\n",
    "                if use_wandb:\n",
    "                    wandb.log({'mse_loss': mse_loss, 'sparsity_loss': sparsity_loss}, step=step)\n",
    "                    # wandb.log({'mem_allocated': a*1e-9, 'mem_reserved': r*1e-9, 'mem_total': total*1e-9}, step=step)\n",
    "                    wandb.log({'max_vram': max_vram, 'cur_mem': cur_mem}, step=step)\n",
    "\n",
    "        # testing\n",
    "        if test_steps is not None and step % test_steps == 0:\n",
    "            with torch.no_grad():\n",
    "                test_metrics = get_metrics(tl_model, ae, hook_name=hook_pos, n_iter=1, ioi_task=ioi_task, sports_task=sports_task, owt_task=owt_task)\n",
    "                print(test_metrics)\n",
    "                for k, v in test_metrics.items():\n",
    "                    metrics[k].append(test_metrics[k])\n",
    "                if use_wandb:\n",
    "                    wandb.log(test_metrics, step=step)\n",
    "\n",
    "        # saving\n",
    "        if save_steps is not None and save_dir is not None and step % save_steps == 0:\n",
    "            if not os.path.exists(os.path.join(save_dir, \"checkpoints\")):\n",
    "                os.mkdir(os.path.join(save_dir, \"checkpoints\"))\n",
    "            torch.save(\n",
    "                ae.state_dict(), \n",
    "                os.path.join(save_dir, \"checkpoints\", f\"ae_{step}.pt\")\n",
    "                )\n",
    "\n",
    "    return ae, metrics\n",
    "\n",
    "\n",
    "# sae = AutoEncoder(activation_dim, dictionary_size).to(device)\n",
    "print(\"starting training\")\n",
    "finished_sae, test_metrics = trainSAE(\n",
    "    buffer,\n",
    "    activation_dim,\n",
    "    dictionary_size,\n",
    "    lr=3e-4,\n",
    "    sparsity_penalty=1e-3,\n",
    "    steps=int(1e5),\n",
    "    warmup_steps=5000,\n",
    "    resample_steps=30000,\n",
    "    save_steps=int(1e4), \n",
    "    save_dir='trained_saes',\n",
    "    log_steps=100,\n",
    "    test_steps=100,\n",
    "    device=device,\n",
    "    tqdm_style=tqdm_notebook,\n",
    "    use_wandb=True\n",
    ")\n",
    "wandb.finish()"
   ]
  },
  {
   "cell_type": "markdown",
   "metadata": {},
   "source": [
    "## old stuff"
   ]
  },
  {
   "cell_type": "code",
   "execution_count": null,
   "metadata": {},
   "outputs": [
    {
     "name": "stdout",
     "output_type": "stream",
     "text": [
      "setup sae, optimizer, scheduler\n"
     ]
    },
    {
     "data": {
      "application/vnd.jupyter.widget-view+json": {
       "model_id": "cf73df0d1fdb4406811252dac28558aa",
       "version_major": 2,
       "version_minor": 0
      },
      "text/plain": [
       "0it [00:00, ?it/s]"
      ]
     },
     "metadata": {},
     "output_type": "display_data"
    },
    {
     "name": "stdout",
     "output_type": "stream",
     "text": [
      "refreshing buffer...\n"
     ]
    }
   ],
   "source": [
    "from tqdm.notebook import tqdm\n",
    "# # train the sparse autoencoder (SAE)\n",
    "ae = trainSAE(\n",
    "    buffer,\n",
    "    activation_dim,\n",
    "    dictionary_size,\n",
    "    lr=3e-4,\n",
    "    sparsity_penalty=1e-3,\n",
    "    device='cuda:0',\n",
    "    tqdm_style=tqdm\n",
    ")"
   ]
  },
  {
   "cell_type": "code",
   "execution_count": null,
   "metadata": {},
   "outputs": [],
   "source": [
    "from dictionary_learning.dictionary import AutoEncoder\n",
    "from dictionary_learning.buffer import ActivationBuffer\n",
    "from dictionary_learning.training import ConstrainedAdam, sae_loss, resample_neurons\n",
    "\n",
    "def trainSAE(\n",
    "        activations, # a generator that outputs batches of activations\n",
    "        activation_dim, # dimension of the activations\n",
    "        dictionary_size, # size of the dictionary\n",
    "        lr,\n",
    "        sparsity_penalty,\n",
    "        entropy=False,\n",
    "        steps=None, # if None, train until activations are exhausted\n",
    "        warmup_steps=1000, # linearly increase the learning rate for this many steps\n",
    "        resample_steps=25000, # how often to resample dead neurons\n",
    "        save_steps=None, # how often to save checkpoints\n",
    "        save_dir=None, # directory for saving checkpoints\n",
    "        log_steps=1000, # how often to print statistics\n",
    "        device='cpu',\n",
    "        tqdm_style=tqdm\n",
    "        ):\n",
    "    \"\"\"\n",
    "    Train and return a sparse autoencoder\n",
    "    \"\"\"\n",
    "    ae = AutoEncoder(activation_dim, dictionary_size).to(device)\n",
    "    alives = torch.zeros(dictionary_size).bool().to(device) # which neurons are not dead?\n",
    "\n",
    "    # set up optimizer and scheduler\n",
    "    optimizer = ConstrainedAdam(ae.parameters(), ae.decoder.parameters(), lr=lr)\n",
    "    def warmup_fn(step):\n",
    "        if step < warmup_steps:\n",
    "            return step / warmup_steps\n",
    "        else:\n",
    "            return 1.\n",
    "    scheduler = torch.optim.lr_scheduler.LambdaLR(optimizer, lr_lambda=warmup_fn)\n",
    "\n",
    "    for step, acts in enumerate(tqdm_style(activations, total=steps)):\n",
    "        if steps is not None and step >= steps:\n",
    "            break\n",
    "\n",
    "        if isinstance(acts, torch.Tensor): # typical casse\n",
    "            acts = acts.to(device)\n",
    "        elif isinstance(acts, tuple): # for cases where the autoencoder input and output are different\n",
    "            acts = tuple(a.to(device) for a in acts)\n",
    "\n",
    "        # print(f\"{acts.shape=}\")\n",
    "        optimizer.zero_grad()\n",
    "        loss = sae_loss(acts, ae, sparsity_penalty, entropy, separate=False)\n",
    "        loss.backward()\n",
    "        optimizer.step()\n",
    "        scheduler.step()\n",
    "\n",
    "        # deal with resampling neurons\n",
    "        if resample_steps is not None:\n",
    "            with torch.no_grad():\n",
    "                if isinstance(acts, tuple):\n",
    "                    in_acts = acts[0]\n",
    "                else:\n",
    "                    in_acts = acts\n",
    "                dict_acts = ae.encode(in_acts)\n",
    "                alives = torch.logical_or(alives, (dict_acts != 0).any(dim=0))\n",
    "                if step % resample_steps == resample_steps // 2:\n",
    "                    alives = torch.zeros(dictionary_size).bool().to(device)\n",
    "                if step % resample_steps == resample_steps - 1:\n",
    "                    deads = ~alives\n",
    "                    if deads.sum() > 0:\n",
    "                        print(f\"resampling {deads.sum().item()} dead neurons\")\n",
    "                        resample_neurons(deads, acts, ae, optimizer)\n",
    "\n",
    "        # logging\n",
    "        if log_steps is not None and step % log_steps == 0:\n",
    "            total = torch.cuda.get_device_properties(0).total_memory\n",
    "            r = torch.cuda.memory_reserved(0)\n",
    "            a = torch.cuda.memory_allocated(0)\n",
    "            print(f\"step {step} memory: {a*1e-9} allocated, {r*1e-9} reserved, {total*1e-9} total\")\n",
    "            with torch.no_grad():\n",
    "                mse_loss, sparsity_loss = sae_loss(acts, ae, sparsity_penalty, entropy, separate=True)\n",
    "                print(f\"step {step} MSE loss: {mse_loss}, sparsity loss: {sparsity_loss}\")\n",
    "                # dict_acts = ae.encode(acts)\n",
    "                # print(f\"step {step} % inactive: {(dict_acts == 0).all(dim=0).sum() / dict_acts.shape[-1]}\")\n",
    "                # if isinstance(activations, ActivationBuffer):\n",
    "                #     tokens = activations.tokenized_batch().input_ids\n",
    "                #     loss_orig, loss_reconst, loss_zero = reconstruction_loss(tokens, activations.model, activations.submodule, ae)\n",
    "                #     print(f\"step {step} reconstruction loss: {loss_orig}, {loss_reconst}, {loss_zero}\")\n",
    "\n",
    "        # saving\n",
    "        if save_steps is not None and save_dir is not None and step % save_steps == 0:\n",
    "            if not os.path.exists(os.path.join(save_dir, \"checkpoints\")):\n",
    "                os.mkdir(os.path.join(save_dir, \"checkpoints\"))\n",
    "            torch.save(\n",
    "                ae.state_dict(), \n",
    "                os.path.join(save_dir, \"checkpoints\", f\"ae_{step}.pt\")\n",
    "                )\n",
    "\n",
    "    return ae"
   ]
  }
 ],
 "metadata": {
  "kernelspec": {
   "display_name": "unlrn",
   "language": "python",
   "name": "unlrn"
  },
  "language_info": {
   "codemirror_mode": {
    "name": "ipython",
    "version": 3
   },
   "file_extension": ".py",
   "mimetype": "text/x-python",
   "name": "python",
   "nbconvert_exporter": "python",
   "pygments_lexer": "ipython3",
   "version": "3.10.13"
  }
 },
 "nbformat": 4,
 "nbformat_minor": 2
}
