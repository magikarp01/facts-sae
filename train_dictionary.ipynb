{
 "cells": [
  {
   "cell_type": "code",
   "execution_count": 1,
   "metadata": {},
   "outputs": [],
   "source": [
    "%load_ext autoreload\n",
    "%autoreload 2\n",
    "\n",
    "from nnsight import LanguageModel\n",
    "from dictionary_learning.buffer import ActivationBuffer\n",
    "from dictionary_learning.training import trainSAE\n",
    "from transformer_lens import HookedTransformer, utils\n",
    "import torch\n",
    "import os\n",
    "os.environ[\"TOKENIZERS_PARALLELISM\"] = \"false\"\n",
    "from tqdm import tqdm\n",
    "from tqdm.notebook import tqdm as tqdm_notebook\n",
    "import wandb\n",
    "from test_sae import get_metrics\n",
    "import psutil\n",
    "from tqdm import tqdm\n",
    "from tqdm.notebook import tqdm as tqdm_notebook"
   ]
  },
  {
   "cell_type": "code",
   "execution_count": 2,
   "metadata": {},
   "outputs": [
    {
     "name": "stdout",
     "output_type": "stream",
     "text": [
      "Loaded pretrained model EleutherAI/pythia-70m-deduped into HookedTransformer\n"
     ]
    }
   ],
   "source": [
    "size = \"70m\"\n",
    "device='cuda:0'\n",
    "tl_model = HookedTransformer.from_pretrained(\n",
    "    f'EleutherAI/pythia-{size}-deduped',\n",
    "    # 'EleutherAI/pythia-1.4b-deduped',\n",
    "    # 'EleutherAI/pythia-2.8b-deduped',\n",
    "    device = device\n",
    ")\n",
    "tokenizer = tl_model.tokenizer\n",
    "\n",
    "layer = 1\n",
    "hook_pos = utils.get_act_name(\"mlp_out\", layer)\n",
    "# model.set_use_hook_mlp_in(True)\n",
    "\n",
    "# model = LanguageModel(\n",
    "#     f'EleutherAI/pythia-{size}-deduped', # this can be any Huggingface model\n",
    "#     # 'EleutherAI/pythia-2.8b-deduped',\n",
    "#     device_map = device\n",
    "# )\n",
    "n_gpus = torch.cuda.device_count()\n",
    "assert n_gpus > 0\n",
    "models = [\n",
    "    LanguageModel(\n",
    "        f'EleutherAI/pythia-{size}-deduped', # this can be any Huggingface model\n",
    "        # 'EleutherAI/pythia-2.8b-deduped',\n",
    "        device_map = f\"cuda:{i}\"\n",
    "    )\n",
    "    for i in range(n_gpus)\n",
    "]\n",
    "model = models[0]\n",
    "submodule = model.gpt_neox.layers[layer].mlp # layer 1 MLP\n",
    "submodule_fn = lambda model: model.gpt_neox.layers[layer].mlp\n",
    "activation_dim = tl_model.cfg.d_model # output dimension of the MLP\n",
    "dictionary_size = 16 * activation_dim"
   ]
  },
  {
   "cell_type": "code",
   "execution_count": 3,
   "metadata": {},
   "outputs": [
    {
     "name": "stderr",
     "output_type": "stream",
     "text": [
      "\u001b[34m\u001b[1mwandb\u001b[0m: Currently logged in as: \u001b[33mphilliphguo\u001b[0m. Use \u001b[1m`wandb login --relogin`\u001b[0m to force relogin\n"
     ]
    },
    {
     "data": {
      "text/html": [
       "wandb version 0.16.1 is available!  To upgrade, please run:\n",
       " $ pip install wandb --upgrade"
      ],
      "text/plain": [
       "<IPython.core.display.HTML object>"
      ]
     },
     "metadata": {},
     "output_type": "display_data"
    },
    {
     "data": {
      "text/html": [
       "Tracking run with wandb version 0.16.0"
      ],
      "text/plain": [
       "<IPython.core.display.HTML object>"
      ]
     },
     "metadata": {},
     "output_type": "display_data"
    },
    {
     "data": {
      "text/html": [
       "Run data is saved locally in <code>/data/phillip_guo/facts-sae/wandb/run-20231224_052900-ur3w7yb0</code>"
      ],
      "text/plain": [
       "<IPython.core.display.HTML object>"
      ]
     },
     "metadata": {},
     "output_type": "display_data"
    },
    {
     "data": {
      "text/html": [
       "Syncing run <strong><a href='https://wandb.ai/philliphguo/facts-sae/runs/ur3w7yb0' target=\"_blank\">zany-eon-25</a></strong> to <a href='https://wandb.ai/philliphguo/facts-sae' target=\"_blank\">Weights & Biases</a> (<a href='https://wandb.me/run' target=\"_blank\">docs</a>)<br/>"
      ],
      "text/plain": [
       "<IPython.core.display.HTML object>"
      ]
     },
     "metadata": {},
     "output_type": "display_data"
    },
    {
     "data": {
      "text/html": [
       " View project at <a href='https://wandb.ai/philliphguo/facts-sae' target=\"_blank\">https://wandb.ai/philliphguo/facts-sae</a>"
      ],
      "text/plain": [
       "<IPython.core.display.HTML object>"
      ]
     },
     "metadata": {},
     "output_type": "display_data"
    },
    {
     "data": {
      "text/html": [
       " View run at <a href='https://wandb.ai/philliphguo/facts-sae/runs/ur3w7yb0' target=\"_blank\">https://wandb.ai/philliphguo/facts-sae/runs/ur3w7yb0</a>"
      ],
      "text/plain": [
       "<IPython.core.display.HTML object>"
      ]
     },
     "metadata": {},
     "output_type": "display_data"
    },
    {
     "data": {
      "text/html": [
       "<button onClick=\"this.nextSibling.style.display='block';this.style.display='none';\">Display W&B run</button><iframe src='https://wandb.ai/philliphguo/facts-sae/runs/ur3w7yb0?jupyter=true' style='border:none;width:100%;height:420px;display:none;'></iframe>"
      ],
      "text/plain": [
       "<wandb.sdk.wandb_run.Run at 0x7f4c005f4760>"
      ]
     },
     "execution_count": 3,
     "metadata": {},
     "output_type": "execute_result"
    }
   ],
   "source": [
    "from tasks.ioi.IOITask import IOITask\n",
    "from tasks.facts.SportsTask import SportsTask\n",
    "from tasks.owt.OWTTask import OWTTask\n",
    "BATCH_SIZE=512\n",
    "\n",
    "ioi_task = IOITask(batch_size=BATCH_SIZE, tokenizer=tokenizer, device='cuda')\n",
    "sports_task = SportsTask(batch_size=BATCH_SIZE, tokenizer=tokenizer, device='cuda')\n",
    "owt_task = OWTTask(batch_size=BATCH_SIZE, tokenizer=tokenizer, device='cuda')\n",
    "wandb.init(project='facts-sae', \n",
    "           entity='philliphguo',\n",
    "          #  config={\n",
    "          #       'training_steps': 1e7\n",
    "          #  }\n",
    "           )"
   ]
  },
  {
   "cell_type": "code",
   "execution_count": 4,
   "metadata": {},
   "outputs": [
    {
     "name": "stderr",
     "output_type": "stream",
     "text": [
      "/data/phillip_guo/miniconda3/envs/unlrn/lib/python3.10/site-packages/datasets/table.py:1421: FutureWarning: promote has been superseded by mode='default'.\n",
      "  table = cls._concat_blocks(blocks, axis=0)\n"
     ]
    }
   ],
   "source": [
    "from datasets import load_dataset\n",
    "import torch\n",
    "from collections import defaultdict\n",
    "\n",
    "# Load the dataset\n",
    "# train_dataset = load_dataset('wikitext', 'wikitext-103-v1', split='train[:1000000]')\n",
    "train_dataset = load_dataset('Skylion007/openwebtext', split=f'train[:{int(5e6)}]')\n",
    "def yield_sentences(data_split):\n",
    "    for example in data_split:\n",
    "        text = example['text']\n",
    "        sentences = text.split('\\n')\n",
    "        for sentence in sentences:\n",
    "            if sentence:  # skip empty lines\n",
    "                yield sentence\n",
    "\n",
    "# Creating an iterator for training sentences\n",
    "train_sentences = yield_sentences(train_dataset)\n",
    "\n",
    "# for i in range(10):\n",
    "#     print(next(train_sentences))\n",
    "\n",
    "buffer = ActivationBuffer(\n",
    "    train_sentences,\n",
    "    model,\n",
    "    submodule,\n",
    "    out_feats=activation_dim, # output dimension of the model component\n",
    "    n_ctxs=3e4,\n",
    "    in_batch_size=int(512*18), # batch size for the model\n",
    "    out_batch_size=512*16, # batch size for the buffer\n",
    "    # num_gpus=2, # number of GPUs to use\n",
    "    models=models,\n",
    "    submodule_fn=submodule_fn,\n",
    ") # buffer will return batches of tensors of dimension = submodule's output dimension"
   ]
  },
  {
   "cell_type": "code",
   "execution_count": 5,
   "metadata": {},
   "outputs": [
    {
     "name": "stdout",
     "output_type": "stream",
     "text": [
      "starting training\n",
      "setup sae, optimizer, scheduler\n"
     ]
    },
    {
     "data": {
      "application/vnd.jupyter.widget-view+json": {
       "model_id": "aee84e1f6b1b4ccca4eedab4670670f3",
       "version_major": 2,
       "version_minor": 0
      },
      "text/plain": [
       "  0%|          | 0/100000 [00:00<?, ?it/s]"
      ]
     },
     "metadata": {},
     "output_type": "display_data"
    },
    {
     "name": "stdout",
     "output_type": "stream",
     "text": [
      "refreshing buffer...\n"
     ]
    },
    {
     "name": "stderr",
     "output_type": "stream",
     "text": [
      "You're using a GPTNeoXTokenizerFast tokenizer. Please note that with a fast tokenizer, using the `__call__` method is faster than using a method to encode the text followed by a call to the `pad` method to get a padded encoding.\n",
      "You're using a GPTNeoXTokenizerFast tokenizer. Please note that with a fast tokenizer, using the `__call__` method is faster than using a method to encode the text followed by a call to the `pad` method to get a padded encoding.\n",
      "You're using a GPTNeoXTokenizerFast tokenizer. Please note that with a fast tokenizer, using the `__call__` method is faster than using a method to encode the text followed by a call to the `pad` method to get a padded encoding.\n",
      "You're using a GPTNeoXTokenizerFast tokenizer. Please note that with a fast tokenizer, using the `__call__` method is faster than using a method to encode the text followed by a call to the `pad` method to get a padded encoding.\n"
     ]
    },
    {
     "name": "stdout",
     "output_type": "stream",
     "text": [
      "buffer refreshed...\n"
     ]
    },
    {
     "name": "stderr",
     "output_type": "stream",
     "text": [
      "Asking to truncate to max_length but no maximum length is provided and the model has no predefined maximum length. Default to no truncation.\n"
     ]
    },
    {
     "name": "stdout",
     "output_type": "stream",
     "text": [
      "step 0 max vram: 78.221638656, cur mem: 10.031087616\n",
      "step 0 MSE loss: 0.26154258847236633, sparsity loss: 465.10626220703125\n",
      "{'ioi_test_loss': 7.131913661956787, 'ioi_test_accuracy': 0.305, 'sports_test_loss': 8.346492767333984, 'sports_test_accuracy': 0.3471337579617834, 'owt_test_loss': 7.324977874755859}\n",
      "step 100 max vram: 78.221638656, cur mem: 10.211995648\n",
      "step 100 MSE loss: 0.15157078206539154, sparsity loss: 438.32037353515625\n",
      "{'ioi_test_loss': 7.848937511444092, 'ioi_test_accuracy': 0.375, 'sports_test_loss': 6.905040264129639, 'sports_test_accuracy': 0.3980891719745223, 'owt_test_loss': 6.618921279907227}\n",
      "step 200 max vram: 78.221638656, cur mem: 10.211995648\n",
      "step 200 MSE loss: 0.08632202446460724, sparsity loss: 347.2375793457031\n",
      "{'ioi_test_loss': 8.015787124633789, 'ioi_test_accuracy': 0.33, 'sports_test_loss': 5.595060348510742, 'sports_test_accuracy': 0.37579617834394907, 'owt_test_loss': 5.646646976470947}\n",
      "refreshing buffer...\n",
      "buffer refreshed...\n",
      "step 300 max vram: 78.50957824, cur mem: 10.750713856\n",
      "step 300 MSE loss: 0.06480208039283752, sparsity loss: 237.52853393554688\n",
      "{'ioi_test_loss': 7.94235372543335, 'ioi_test_accuracy': 0.265, 'sports_test_loss': 5.324662208557129, 'sports_test_accuracy': 0.3471337579617834, 'owt_test_loss': 5.447536468505859}\n",
      "step 400 max vram: 78.50957824, cur mem: 10.681724928\n",
      "step 400 MSE loss: 0.05270654708147049, sparsity loss: 148.34762573242188\n",
      "{'ioi_test_loss': 7.744533061981201, 'ioi_test_accuracy': 0.28, 'sports_test_loss': 5.178232669830322, 'sports_test_accuracy': 0.35987261146496813, 'owt_test_loss': 5.10093355178833}\n",
      "refreshing buffer...\n",
      "buffer refreshed...\n",
      "step 500 max vram: 78.58555904, cur mem: 10.811613184\n",
      "step 500 MSE loss: 0.0453108474612236, sparsity loss: 89.07988739013672\n",
      "{'ioi_test_loss': 7.47360372543335, 'ioi_test_accuracy': 0.285, 'sports_test_loss': 5.243790149688721, 'sports_test_accuracy': 0.35668789808917195, 'owt_test_loss': 5.013354778289795}\n",
      "step 600 max vram: 78.58555904, cur mem: 10.82636288\n",
      "step 600 MSE loss: 0.04127509891986847, sparsity loss: 55.61585235595703\n",
      "{'ioi_test_loss': 7.3899431228637695, 'ioi_test_accuracy': 0.275, 'sports_test_loss': 5.565609455108643, 'sports_test_accuracy': 0.35987261146496813, 'owt_test_loss': 4.84760856628418}\n",
      "step 700 max vram: 78.58555904, cur mem: 10.84010496\n",
      "step 700 MSE loss: 0.03784038498997688, sparsity loss: 37.57801818847656\n",
      "{'ioi_test_loss': 7.572832107543945, 'ioi_test_accuracy': 0.26, 'sports_test_loss': 5.663500785827637, 'sports_test_accuracy': 0.3630573248407643, 'owt_test_loss': 4.8863844871521}\n",
      "refreshing buffer...\n",
      "buffer refreshed...\n",
      "step 800 max vram: 78.58555904, cur mem: 10.494681088\n",
      "step 800 MSE loss: 0.034710876643657684, sparsity loss: 25.343891143798828\n",
      "{'ioi_test_loss': 7.786076545715332, 'ioi_test_accuracy': 0.235, 'sports_test_loss': 5.554410934448242, 'sports_test_accuracy': 0.3662420382165605, 'owt_test_loss': 4.769265174865723}\n",
      "step 900 max vram: 78.58555904, cur mem: 10.510000128\n",
      "step 900 MSE loss: 0.033438242971897125, sparsity loss: 19.269725799560547\n",
      "{'ioi_test_loss': 7.948713302612305, 'ioi_test_accuracy': 0.23, 'sports_test_loss': 5.491158962249756, 'sports_test_accuracy': 0.35987261146496813, 'owt_test_loss': 4.787647247314453}\n",
      "step 1000 max vram: 78.58555904, cur mem: 10.510000128\n",
      "step 1000 MSE loss: 0.03202737867832184, sparsity loss: 14.834650039672852\n",
      "{'ioi_test_loss': 7.968558311462402, 'ioi_test_accuracy': 0.205, 'sports_test_loss': 5.4636454582214355, 'sports_test_accuracy': 0.35668789808917195, 'owt_test_loss': 4.722248077392578}\n",
      "refreshing buffer...\n",
      "buffer refreshed...\n",
      "step 1100 max vram: 78.651488256, cur mem: 10.717413376\n",
      "step 1100 MSE loss: 0.03148423135280609, sparsity loss: 12.412107467651367\n",
      "{'ioi_test_loss': 7.895276069641113, 'ioi_test_accuracy': 0.18, 'sports_test_loss': 5.429367542266846, 'sports_test_accuracy': 0.35668789808917195, 'owt_test_loss': 4.741039752960205}\n",
      "step 1200 max vram: 78.651488256, cur mem: 10.629738496\n",
      "step 1200 MSE loss: 0.0309603214263916, sparsity loss: 10.382146835327148\n",
      "{'ioi_test_loss': 7.79257345199585, 'ioi_test_accuracy': 0.165, 'sports_test_loss': 5.3827362060546875, 'sports_test_accuracy': 0.3535031847133758, 'owt_test_loss': 4.7237467765808105}\n",
      "refreshing buffer...\n",
      "buffer refreshed...\n",
      "step 1300 max vram: 78.651488256, cur mem: 10.673569792\n",
      "step 1300 MSE loss: 0.03005943074822426, sparsity loss: 8.98949909210205\n",
      "{'ioi_test_loss': 7.699002265930176, 'ioi_test_accuracy': 0.165, 'sports_test_loss': 5.322619438171387, 'sports_test_accuracy': 0.3503184713375796, 'owt_test_loss': 4.683269500732422}\n"
     ]
    },
    {
     "ename": "KeyboardInterrupt",
     "evalue": "",
     "output_type": "error",
     "traceback": [
      "\u001b[0;31m---------------------------------------------------------------------------\u001b[0m",
      "\u001b[0;31mKeyboardInterrupt\u001b[0m                         Traceback (most recent call last)",
      "\u001b[1;32m/data/phillip_guo/facts-sae/train_dictionary.ipynb Cell 5\u001b[0m line \u001b[0;36m1\n\u001b[1;32m    <a href='vscode-notebook-cell://ssh-remote%2Bcais/data/phillip_guo/facts-sae/train_dictionary.ipynb#W4sdnNjb2RlLXJlbW90ZQ%3D%3D?line=121'>122</a>\u001b[0m \u001b[39m# sae = AutoEncoder(activation_dim, dictionary_size).to(device)\u001b[39;00m\n\u001b[1;32m    <a href='vscode-notebook-cell://ssh-remote%2Bcais/data/phillip_guo/facts-sae/train_dictionary.ipynb#W4sdnNjb2RlLXJlbW90ZQ%3D%3D?line=122'>123</a>\u001b[0m \u001b[39mprint\u001b[39m(\u001b[39m\"\u001b[39m\u001b[39mstarting training\u001b[39m\u001b[39m\"\u001b[39m)\n\u001b[0;32m--> <a href='vscode-notebook-cell://ssh-remote%2Bcais/data/phillip_guo/facts-sae/train_dictionary.ipynb#W4sdnNjb2RlLXJlbW90ZQ%3D%3D?line=123'>124</a>\u001b[0m finished_sae, test_metrics \u001b[39m=\u001b[39m trainSAE(\n\u001b[1;32m    <a href='vscode-notebook-cell://ssh-remote%2Bcais/data/phillip_guo/facts-sae/train_dictionary.ipynb#W4sdnNjb2RlLXJlbW90ZQ%3D%3D?line=124'>125</a>\u001b[0m     buffer,\n\u001b[1;32m    <a href='vscode-notebook-cell://ssh-remote%2Bcais/data/phillip_guo/facts-sae/train_dictionary.ipynb#W4sdnNjb2RlLXJlbW90ZQ%3D%3D?line=125'>126</a>\u001b[0m     activation_dim,\n\u001b[1;32m    <a href='vscode-notebook-cell://ssh-remote%2Bcais/data/phillip_guo/facts-sae/train_dictionary.ipynb#W4sdnNjb2RlLXJlbW90ZQ%3D%3D?line=126'>127</a>\u001b[0m     dictionary_size,\n\u001b[1;32m    <a href='vscode-notebook-cell://ssh-remote%2Bcais/data/phillip_guo/facts-sae/train_dictionary.ipynb#W4sdnNjb2RlLXJlbW90ZQ%3D%3D?line=127'>128</a>\u001b[0m     lr\u001b[39m=\u001b[39;49m\u001b[39m3e-4\u001b[39;49m,\n\u001b[1;32m    <a href='vscode-notebook-cell://ssh-remote%2Bcais/data/phillip_guo/facts-sae/train_dictionary.ipynb#W4sdnNjb2RlLXJlbW90ZQ%3D%3D?line=128'>129</a>\u001b[0m     sparsity_penalty\u001b[39m=\u001b[39;49m\u001b[39m1e-3\u001b[39;49m,\n\u001b[1;32m    <a href='vscode-notebook-cell://ssh-remote%2Bcais/data/phillip_guo/facts-sae/train_dictionary.ipynb#W4sdnNjb2RlLXJlbW90ZQ%3D%3D?line=129'>130</a>\u001b[0m     steps\u001b[39m=\u001b[39;49m\u001b[39mint\u001b[39;49m(\u001b[39m1e5\u001b[39;49m),\n\u001b[1;32m    <a href='vscode-notebook-cell://ssh-remote%2Bcais/data/phillip_guo/facts-sae/train_dictionary.ipynb#W4sdnNjb2RlLXJlbW90ZQ%3D%3D?line=130'>131</a>\u001b[0m     warmup_steps\u001b[39m=\u001b[39;49m\u001b[39m5000\u001b[39;49m,\n\u001b[1;32m    <a href='vscode-notebook-cell://ssh-remote%2Bcais/data/phillip_guo/facts-sae/train_dictionary.ipynb#W4sdnNjb2RlLXJlbW90ZQ%3D%3D?line=131'>132</a>\u001b[0m     resample_steps\u001b[39m=\u001b[39;49m\u001b[39m30000\u001b[39;49m,\n\u001b[1;32m    <a href='vscode-notebook-cell://ssh-remote%2Bcais/data/phillip_guo/facts-sae/train_dictionary.ipynb#W4sdnNjb2RlLXJlbW90ZQ%3D%3D?line=132'>133</a>\u001b[0m     save_steps\u001b[39m=\u001b[39;49m\u001b[39mint\u001b[39;49m(\u001b[39m1e4\u001b[39;49m), \n\u001b[1;32m    <a href='vscode-notebook-cell://ssh-remote%2Bcais/data/phillip_guo/facts-sae/train_dictionary.ipynb#W4sdnNjb2RlLXJlbW90ZQ%3D%3D?line=133'>134</a>\u001b[0m     save_dir\u001b[39m=\u001b[39;49m\u001b[39mf\u001b[39;49m\u001b[39m'\u001b[39;49m\u001b[39mtrained_saes/\u001b[39;49m\u001b[39m{\u001b[39;49;00msize\u001b[39m}\u001b[39;49;00m\u001b[39m'\u001b[39;49m,\n\u001b[1;32m    <a href='vscode-notebook-cell://ssh-remote%2Bcais/data/phillip_guo/facts-sae/train_dictionary.ipynb#W4sdnNjb2RlLXJlbW90ZQ%3D%3D?line=134'>135</a>\u001b[0m     log_steps\u001b[39m=\u001b[39;49m\u001b[39m100\u001b[39;49m,\n\u001b[1;32m    <a href='vscode-notebook-cell://ssh-remote%2Bcais/data/phillip_guo/facts-sae/train_dictionary.ipynb#W4sdnNjb2RlLXJlbW90ZQ%3D%3D?line=135'>136</a>\u001b[0m     test_steps\u001b[39m=\u001b[39;49m\u001b[39m100\u001b[39;49m,\n\u001b[1;32m    <a href='vscode-notebook-cell://ssh-remote%2Bcais/data/phillip_guo/facts-sae/train_dictionary.ipynb#W4sdnNjb2RlLXJlbW90ZQ%3D%3D?line=136'>137</a>\u001b[0m     device\u001b[39m=\u001b[39;49mdevice,\n\u001b[1;32m    <a href='vscode-notebook-cell://ssh-remote%2Bcais/data/phillip_guo/facts-sae/train_dictionary.ipynb#W4sdnNjb2RlLXJlbW90ZQ%3D%3D?line=137'>138</a>\u001b[0m     tqdm_style\u001b[39m=\u001b[39;49mtqdm_notebook,\n\u001b[1;32m    <a href='vscode-notebook-cell://ssh-remote%2Bcais/data/phillip_guo/facts-sae/train_dictionary.ipynb#W4sdnNjb2RlLXJlbW90ZQ%3D%3D?line=138'>139</a>\u001b[0m     use_wandb\u001b[39m=\u001b[39;49m\u001b[39mTrue\u001b[39;49;00m\n\u001b[1;32m    <a href='vscode-notebook-cell://ssh-remote%2Bcais/data/phillip_guo/facts-sae/train_dictionary.ipynb#W4sdnNjb2RlLXJlbW90ZQ%3D%3D?line=139'>140</a>\u001b[0m )\n\u001b[1;32m    <a href='vscode-notebook-cell://ssh-remote%2Bcais/data/phillip_guo/facts-sae/train_dictionary.ipynb#W4sdnNjb2RlLXJlbW90ZQ%3D%3D?line=140'>141</a>\u001b[0m wandb\u001b[39m.\u001b[39mfinish()\n",
      "\u001b[1;32m/data/phillip_guo/facts-sae/train_dictionary.ipynb Cell 5\u001b[0m line \u001b[0;36m4\n\u001b[1;32m     <a href='vscode-notebook-cell://ssh-remote%2Bcais/data/phillip_guo/facts-sae/train_dictionary.ipynb#W4sdnNjb2RlLXJlbW90ZQ%3D%3D?line=36'>37</a>\u001b[0m metrics \u001b[39m=\u001b[39m defaultdict(\u001b[39mlist\u001b[39m)\n\u001b[1;32m     <a href='vscode-notebook-cell://ssh-remote%2Bcais/data/phillip_guo/facts-sae/train_dictionary.ipynb#W4sdnNjb2RlLXJlbW90ZQ%3D%3D?line=37'>38</a>\u001b[0m \u001b[39mprint\u001b[39m(\u001b[39m\"\u001b[39m\u001b[39msetup sae, optimizer, scheduler\u001b[39m\u001b[39m\"\u001b[39m)\n\u001b[0;32m---> <a href='vscode-notebook-cell://ssh-remote%2Bcais/data/phillip_guo/facts-sae/train_dictionary.ipynb#W4sdnNjb2RlLXJlbW90ZQ%3D%3D?line=39'>40</a>\u001b[0m \u001b[39mfor\u001b[39;00m step, acts \u001b[39min\u001b[39;00m \u001b[39menumerate\u001b[39m(tqdm_style(activations, total\u001b[39m=\u001b[39msteps)):\n\u001b[1;32m     <a href='vscode-notebook-cell://ssh-remote%2Bcais/data/phillip_guo/facts-sae/train_dictionary.ipynb#W4sdnNjb2RlLXJlbW90ZQ%3D%3D?line=40'>41</a>\u001b[0m     \u001b[39m# print(step)\u001b[39;00m\n\u001b[1;32m     <a href='vscode-notebook-cell://ssh-remote%2Bcais/data/phillip_guo/facts-sae/train_dictionary.ipynb#W4sdnNjb2RlLXJlbW90ZQ%3D%3D?line=41'>42</a>\u001b[0m     \u001b[39mif\u001b[39;00m steps \u001b[39mis\u001b[39;00m \u001b[39mnot\u001b[39;00m \u001b[39mNone\u001b[39;00m \u001b[39mand\u001b[39;00m step \u001b[39m>\u001b[39m\u001b[39m=\u001b[39m steps:\n\u001b[1;32m     <a href='vscode-notebook-cell://ssh-remote%2Bcais/data/phillip_guo/facts-sae/train_dictionary.ipynb#W4sdnNjb2RlLXJlbW90ZQ%3D%3D?line=42'>43</a>\u001b[0m         \u001b[39mbreak\u001b[39;00m\n",
      "File \u001b[0;32m~/miniconda3/envs/unlrn/lib/python3.10/site-packages/tqdm/notebook.py:249\u001b[0m, in \u001b[0;36mtqdm_notebook.__iter__\u001b[0;34m(self)\u001b[0m\n\u001b[1;32m    247\u001b[0m \u001b[39mtry\u001b[39;00m:\n\u001b[1;32m    248\u001b[0m     it \u001b[39m=\u001b[39m \u001b[39msuper\u001b[39m(tqdm_notebook, \u001b[39mself\u001b[39m)\u001b[39m.\u001b[39m\u001b[39m__iter__\u001b[39m()\n\u001b[0;32m--> 249\u001b[0m     \u001b[39mfor\u001b[39;00m obj \u001b[39min\u001b[39;00m it:\n\u001b[1;32m    250\u001b[0m         \u001b[39m# return super(tqdm...) will not catch exception\u001b[39;00m\n\u001b[1;32m    251\u001b[0m         \u001b[39myield\u001b[39;00m obj\n\u001b[1;32m    252\u001b[0m \u001b[39m# NB: except ... [ as ...] breaks IPython async KeyboardInterrupt\u001b[39;00m\n",
      "File \u001b[0;32m~/miniconda3/envs/unlrn/lib/python3.10/site-packages/tqdm/std.py:1182\u001b[0m, in \u001b[0;36mtqdm.__iter__\u001b[0;34m(self)\u001b[0m\n\u001b[1;32m   1179\u001b[0m time \u001b[39m=\u001b[39m \u001b[39mself\u001b[39m\u001b[39m.\u001b[39m_time\n\u001b[1;32m   1181\u001b[0m \u001b[39mtry\u001b[39;00m:\n\u001b[0;32m-> 1182\u001b[0m     \u001b[39mfor\u001b[39;00m obj \u001b[39min\u001b[39;00m iterable:\n\u001b[1;32m   1183\u001b[0m         \u001b[39myield\u001b[39;00m obj\n\u001b[1;32m   1184\u001b[0m         \u001b[39m# Update and possibly print the progressbar.\u001b[39;00m\n\u001b[1;32m   1185\u001b[0m         \u001b[39m# Note: does not call self.update(1) for speed optimisation.\u001b[39;00m\n",
      "File \u001b[0;32m~/facts-sae/dictionary_learning/buffer.py:118\u001b[0m, in \u001b[0;36mActivationBuffer.__next__\u001b[0;34m(self)\u001b[0m\n\u001b[1;32m    116\u001b[0m \u001b[39m# return a batch\u001b[39;00m\n\u001b[1;32m    117\u001b[0m unreads \u001b[39m=\u001b[39m (\u001b[39m~\u001b[39m\u001b[39mself\u001b[39m\u001b[39m.\u001b[39mread)\u001b[39m.\u001b[39mnonzero()\u001b[39m.\u001b[39msqueeze()\n\u001b[0;32m--> 118\u001b[0m idxs \u001b[39m=\u001b[39m unreads[t\u001b[39m.\u001b[39;49mrandperm(\u001b[39mlen\u001b[39;49m(unreads))[:\u001b[39mself\u001b[39m\u001b[39m.\u001b[39mout_batch_size]]\n\u001b[1;32m    119\u001b[0m \u001b[39mself\u001b[39m\u001b[39m.\u001b[39mread[idxs] \u001b[39m=\u001b[39m \u001b[39mTrue\u001b[39;00m\n\u001b[1;32m    120\u001b[0m \u001b[39mif\u001b[39;00m \u001b[39mself\u001b[39m\u001b[39m.\u001b[39mio \u001b[39min\u001b[39;00m [\u001b[39m'\u001b[39m\u001b[39min\u001b[39m\u001b[39m'\u001b[39m, \u001b[39m'\u001b[39m\u001b[39mout\u001b[39m\u001b[39m'\u001b[39m]:\n",
      "\u001b[0;31mKeyboardInterrupt\u001b[0m: "
     ]
    }
   ],
   "source": [
    "from dictionary_learning.dictionary import AutoEncoder\n",
    "from dictionary_learning.buffer import ActivationBuffer\n",
    "from dictionary_learning.training import ConstrainedAdam, sae_loss, resample_neurons\n",
    "\n",
    "def trainSAE(\n",
    "        activations, # a generator that outputs batches of activations\n",
    "        activation_dim, # dimension of the activations\n",
    "        dictionary_size, # size of the dictionary\n",
    "        lr,\n",
    "        sparsity_penalty,\n",
    "        entropy=False,\n",
    "        steps=None, # if None, train until activations are exhausted\n",
    "        warmup_steps=1000, # linearly increase the learning rate for this many steps\n",
    "        resample_steps=25000, # how often to resample dead neurons\n",
    "        save_steps=None, # how often to save checkpoints\n",
    "        save_dir=None, # directory for saving checkpoints\n",
    "        log_steps=1000, # how often to print statistics\n",
    "        test_steps=10000, # how often to test\n",
    "        device='cpu',\n",
    "        tqdm_style=tqdm,\n",
    "        use_wandb=False\n",
    "        ):\n",
    "    \"\"\"\n",
    "    Train and return a sparse autoencoder\n",
    "    \"\"\"\n",
    "    ae = AutoEncoder(activation_dim, dictionary_size).to(device)\n",
    "    alives = torch.zeros(dictionary_size).bool().to(device) # which neurons are not dead?\n",
    "\n",
    "    # set up optimizer and scheduler\n",
    "    optimizer = ConstrainedAdam(ae.parameters(), ae.decoder.parameters(), lr=lr)\n",
    "    def warmup_fn(step):\n",
    "        if step < warmup_steps:\n",
    "            return step / warmup_steps\n",
    "        else:\n",
    "            return 1.\n",
    "    scheduler = torch.optim.lr_scheduler.LambdaLR(optimizer, lr_lambda=warmup_fn)\n",
    "    metrics = defaultdict(list)\n",
    "    print(\"setup sae, optimizer, scheduler\")\n",
    "\n",
    "    for step, acts in enumerate(tqdm_style(activations, total=steps)):\n",
    "        # print(step)\n",
    "        if steps is not None and step >= steps:\n",
    "            break\n",
    "\n",
    "        if isinstance(acts, torch.Tensor): # typical casse\n",
    "            acts = acts.to(device)\n",
    "        elif isinstance(acts, tuple): # for cases where the autoencoder input and output are different\n",
    "            acts = tuple(a.to(device) for a in acts)\n",
    "\n",
    "        # print(f\"{acts.shape=}\")\n",
    "        optimizer.zero_grad()\n",
    "        loss = sae_loss(acts, ae, sparsity_penalty, entropy, separate=False)\n",
    "        loss.backward()\n",
    "        optimizer.step()\n",
    "        scheduler.step()\n",
    "\n",
    "        # deal with resampling neurons\n",
    "        if resample_steps is not None:\n",
    "            with torch.no_grad():\n",
    "                if isinstance(acts, tuple):\n",
    "                    in_acts = acts[0]\n",
    "                else:\n",
    "                    in_acts = acts\n",
    "                dict_acts = ae.encode(in_acts)\n",
    "                alives = torch.logical_or(alives, (dict_acts != 0).any(dim=0))\n",
    "                if step % resample_steps == resample_steps // 2:\n",
    "                    alives = torch.zeros(dictionary_size).bool().to(device)\n",
    "                if step % resample_steps == resample_steps - 1:\n",
    "                    deads = ~alives\n",
    "                    if deads.sum() > 0:\n",
    "                        print(f\"resampling {deads.sum().item()} dead neurons\")\n",
    "                        resample_neurons(deads, acts, ae, optimizer)\n",
    "\n",
    "        # logging\n",
    "        if log_steps is not None and step % log_steps == 0:\n",
    "            # total = torch.cuda.get_device_properties(0).total_memory\n",
    "            # r = torch.cuda.memory_reserved(0)\n",
    "            # a = torch.cuda.memory_allocated(0)\n",
    "            # print(f\"step {step} memory: {a*1e-9} allocated, {r*1e-9} reserved, {total*1e-9} total\")\n",
    "            max_vram = torch.cuda.max_memory_allocated() / 1e9\n",
    "            cur_vram = torch.cuda.memory_allocated() / 1e9\n",
    "\n",
    "            process = psutil.Process()\n",
    "            cur_mem = process.memory_info().rss / 1e9\n",
    "            print(f\"step {step} max vram: {max_vram}, cur mem: {cur_mem}\")\n",
    "            with torch.no_grad():\n",
    "                mse_loss, sparsity_loss = sae_loss(acts, ae, sparsity_penalty, entropy, separate=True)\n",
    "                print(f\"step {step} MSE loss: {mse_loss}, sparsity loss: {sparsity_loss}\")\n",
    "                # dict_acts = ae.encode(acts)\n",
    "                # print(f\"step {step} % inactive: {(dict_acts == 0).all(dim=0).sum() / dict_acts.shape[-1]}\")\n",
    "                # if isinstance(activations, ActivationBuffer):\n",
    "                #     tokens = activations.tokenized_batch().input_ids\n",
    "                #     loss_orig, loss_reconst, loss_zero = reconstruction_loss(tokens, activations.model, activations.submodule, ae)\n",
    "                #     print(f\"step {step} reconstruction loss: {loss_orig}, {loss_reconst}, {loss_zero}\")\n",
    "                if use_wandb:\n",
    "                    wandb.log({'mse_loss': mse_loss, 'sparsity_loss': sparsity_loss}, step=step)\n",
    "                    # wandb.log({'mem_allocated': a*1e-9, 'mem_reserved': r*1e-9, 'mem_total': total*1e-9}, step=step)\n",
    "                    wandb.log({'max_vram': max_vram, 'cur_mem': cur_mem}, step=step)\n",
    "\n",
    "        # testing\n",
    "        if test_steps is not None and step % test_steps == 0:\n",
    "            with torch.no_grad():\n",
    "                test_metrics = get_metrics(tl_model, ae, hook_name=hook_pos, n_iter=1, ioi_task=ioi_task, sports_task=sports_task, owt_task=owt_task)\n",
    "                print(test_metrics)\n",
    "                for k, v in test_metrics.items():\n",
    "                    metrics[k].append(test_metrics[k])\n",
    "                if use_wandb:\n",
    "                    wandb.log(test_metrics, step=step)\n",
    "\n",
    "        # saving\n",
    "        if save_steps is not None and save_dir is not None and step % save_steps == 0:\n",
    "            if not os.path.exists(os.path.join(save_dir, \"checkpoints\")):\n",
    "                os.mkdir(os.path.join(save_dir, \"checkpoints\"))\n",
    "            torch.save(\n",
    "                ae.state_dict(), \n",
    "                os.path.join(save_dir, \"checkpoints\", f\"ae_{step}.pt\")\n",
    "                )\n",
    "\n",
    "    return ae, metrics\n",
    "\n",
    "\n",
    "# sae = AutoEncoder(activation_dim, dictionary_size).to(device)\n",
    "print(\"starting training\")\n",
    "finished_sae, test_metrics = trainSAE(\n",
    "    buffer,\n",
    "    activation_dim,\n",
    "    dictionary_size,\n",
    "    lr=3e-4,\n",
    "    sparsity_penalty=1e-3,\n",
    "    steps=int(1e5),\n",
    "    warmup_steps=5000,\n",
    "    resample_steps=30000,\n",
    "    save_steps=int(1e4), \n",
    "    save_dir=f'trained_saes/{size}',\n",
    "    log_steps=100,\n",
    "    test_steps=100,\n",
    "    device=device,\n",
    "    tqdm_style=tqdm_notebook,\n",
    "    use_wandb=True\n",
    ")\n",
    "wandb.finish()"
   ]
  },
  {
   "cell_type": "markdown",
   "metadata": {},
   "source": [
    "## old stuff"
   ]
  },
  {
   "cell_type": "code",
   "execution_count": null,
   "metadata": {},
   "outputs": [
    {
     "name": "stdout",
     "output_type": "stream",
     "text": [
      "setup sae, optimizer, scheduler\n"
     ]
    },
    {
     "data": {
      "application/vnd.jupyter.widget-view+json": {
       "model_id": "cf73df0d1fdb4406811252dac28558aa",
       "version_major": 2,
       "version_minor": 0
      },
      "text/plain": [
       "0it [00:00, ?it/s]"
      ]
     },
     "metadata": {},
     "output_type": "display_data"
    },
    {
     "name": "stdout",
     "output_type": "stream",
     "text": [
      "refreshing buffer...\n"
     ]
    }
   ],
   "source": [
    "from tqdm.notebook import tqdm\n",
    "# # train the sparse autoencoder (SAE)\n",
    "ae = trainSAE(\n",
    "    buffer,\n",
    "    activation_dim,\n",
    "    dictionary_size,\n",
    "    lr=3e-4,\n",
    "    sparsity_penalty=1e-3,\n",
    "    device='cuda:0',\n",
    "    tqdm_style=tqdm\n",
    ")"
   ]
  },
  {
   "cell_type": "code",
   "execution_count": null,
   "metadata": {},
   "outputs": [],
   "source": [
    "from dictionary_learning.dictionary import AutoEncoder\n",
    "from dictionary_learning.buffer import ActivationBuffer\n",
    "from dictionary_learning.training import ConstrainedAdam, sae_loss, resample_neurons\n",
    "\n",
    "def trainSAE(\n",
    "        activations, # a generator that outputs batches of activations\n",
    "        activation_dim, # dimension of the activations\n",
    "        dictionary_size, # size of the dictionary\n",
    "        lr,\n",
    "        sparsity_penalty,\n",
    "        entropy=False,\n",
    "        steps=None, # if None, train until activations are exhausted\n",
    "        warmup_steps=1000, # linearly increase the learning rate for this many steps\n",
    "        resample_steps=25000, # how often to resample dead neurons\n",
    "        save_steps=None, # how often to save checkpoints\n",
    "        save_dir=None, # directory for saving checkpoints\n",
    "        log_steps=1000, # how often to print statistics\n",
    "        device='cpu',\n",
    "        tqdm_style=tqdm\n",
    "        ):\n",
    "    \"\"\"\n",
    "    Train and return a sparse autoencoder\n",
    "    \"\"\"\n",
    "    ae = AutoEncoder(activation_dim, dictionary_size).to(device)\n",
    "    alives = torch.zeros(dictionary_size).bool().to(device) # which neurons are not dead?\n",
    "\n",
    "    # set up optimizer and scheduler\n",
    "    optimizer = ConstrainedAdam(ae.parameters(), ae.decoder.parameters(), lr=lr)\n",
    "    def warmup_fn(step):\n",
    "        if step < warmup_steps:\n",
    "            return step / warmup_steps\n",
    "        else:\n",
    "            return 1.\n",
    "    scheduler = torch.optim.lr_scheduler.LambdaLR(optimizer, lr_lambda=warmup_fn)\n",
    "\n",
    "    for step, acts in enumerate(tqdm_style(activations, total=steps)):\n",
    "        if steps is not None and step >= steps:\n",
    "            break\n",
    "\n",
    "        if isinstance(acts, torch.Tensor): # typical casse\n",
    "            acts = acts.to(device)\n",
    "        elif isinstance(acts, tuple): # for cases where the autoencoder input and output are different\n",
    "            acts = tuple(a.to(device) for a in acts)\n",
    "\n",
    "        # print(f\"{acts.shape=}\")\n",
    "        optimizer.zero_grad()\n",
    "        loss = sae_loss(acts, ae, sparsity_penalty, entropy, separate=False)\n",
    "        loss.backward()\n",
    "        optimizer.step()\n",
    "        scheduler.step()\n",
    "\n",
    "        # deal with resampling neurons\n",
    "        if resample_steps is not None:\n",
    "            with torch.no_grad():\n",
    "                if isinstance(acts, tuple):\n",
    "                    in_acts = acts[0]\n",
    "                else:\n",
    "                    in_acts = acts\n",
    "                dict_acts = ae.encode(in_acts)\n",
    "                alives = torch.logical_or(alives, (dict_acts != 0).any(dim=0))\n",
    "                if step % resample_steps == resample_steps // 2:\n",
    "                    alives = torch.zeros(dictionary_size).bool().to(device)\n",
    "                if step % resample_steps == resample_steps - 1:\n",
    "                    deads = ~alives\n",
    "                    if deads.sum() > 0:\n",
    "                        print(f\"resampling {deads.sum().item()} dead neurons\")\n",
    "                        resample_neurons(deads, acts, ae, optimizer)\n",
    "\n",
    "        # logging\n",
    "        if log_steps is not None and step % log_steps == 0:\n",
    "            total = torch.cuda.get_device_properties(0).total_memory\n",
    "            r = torch.cuda.memory_reserved(0)\n",
    "            a = torch.cuda.memory_allocated(0)\n",
    "            print(f\"step {step} memory: {a*1e-9} allocated, {r*1e-9} reserved, {total*1e-9} total\")\n",
    "            with torch.no_grad():\n",
    "                mse_loss, sparsity_loss = sae_loss(acts, ae, sparsity_penalty, entropy, separate=True)\n",
    "                print(f\"step {step} MSE loss: {mse_loss}, sparsity loss: {sparsity_loss}\")\n",
    "                # dict_acts = ae.encode(acts)\n",
    "                # print(f\"step {step} % inactive: {(dict_acts == 0).all(dim=0).sum() / dict_acts.shape[-1]}\")\n",
    "                # if isinstance(activations, ActivationBuffer):\n",
    "                #     tokens = activations.tokenized_batch().input_ids\n",
    "                #     loss_orig, loss_reconst, loss_zero = reconstruction_loss(tokens, activations.model, activations.submodule, ae)\n",
    "                #     print(f\"step {step} reconstruction loss: {loss_orig}, {loss_reconst}, {loss_zero}\")\n",
    "\n",
    "        # saving\n",
    "        if save_steps is not None and save_dir is not None and step % save_steps == 0:\n",
    "            if not os.path.exists(os.path.join(save_dir, \"checkpoints\")):\n",
    "                os.mkdir(os.path.join(save_dir, \"checkpoints\"))\n",
    "            torch.save(\n",
    "                ae.state_dict(), \n",
    "                os.path.join(save_dir, \"checkpoints\", f\"ae_{step}.pt\")\n",
    "                )\n",
    "\n",
    "    return ae"
   ]
  }
 ],
 "metadata": {
  "kernelspec": {
   "display_name": "unlrn",
   "language": "python",
   "name": "unlrn"
  },
  "language_info": {
   "codemirror_mode": {
    "name": "ipython",
    "version": 3
   },
   "file_extension": ".py",
   "mimetype": "text/x-python",
   "name": "python",
   "nbconvert_exporter": "python",
   "pygments_lexer": "ipython3",
   "version": "3.10.13"
  }
 },
 "nbformat": 4,
 "nbformat_minor": 2
}
